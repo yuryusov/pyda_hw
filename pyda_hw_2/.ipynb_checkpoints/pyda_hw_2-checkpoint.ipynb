{
 "cells": [
  {
   "cell_type": "code",
   "execution_count": null,
   "metadata": {},
   "outputs": [],
   "source": [
    "# Задание 1\n",
    "phrase_1 = \"Насколько проще было бы писать программы, если бы не заказчики\"\n",
    "phrase_2 = \"640Кб должно хватить для любых задач. Билл Гейтс (по легенде)\"\n",
    "\n",
    "if len (phrase_1) > len (phrase_2):\n",
    "    print (\"Фраза 1 длиннее фразы 2\")\n",
    "\n",
    "elif len (phrase_1) == len (phrase_2):\n",
    "    print (\"Фразы равной длины\")\n",
    "    \n",
    "else:\n",
    "    print (\"Фраза 2 длиннее фразы 1\")"
   ]
  },
  {
   "cell_type": "code",
   "execution_count": null,
   "metadata": {
    "scrolled": true
   },
   "outputs": [],
   "source": [
    "#  Задание 2\n",
    "year = int(input())\n",
    "\n",
    "if (year % 4 == 0) and (year % 100 != 0) or (year % 400 == 0):\n",
    "    print('Высокосный год')\n",
    "    \n",
    "else:\n",
    "    print('Обычнй год')"
   ]
  },
  {
   "cell_type": "code",
   "execution_count": null,
   "metadata": {},
   "outputs": [],
   "source": [
    "# Задание 3\n",
    "date = int(input(\"Введите день:\"))\n",
    "month = str(input(\"Введите месяц:\"))\n",
    "\n",
    "if (date >= 21 and date <= 31 and month == \"Март\") or ( month == \"Апрель\" and date >= 1 and date <= 19):\n",
    "   print(\"Ваш знак зодиака:Овен\")\n",
    "\n",
    "elif (date >= 20 and date <= 30 and month == \"Апрель\") or( month == \"Май\" and date >= 1 and date <= 20):\n",
    "   print(\"Ваш знак зодиака:Телец\")\n",
    "\n",
    "elif (date >= 21 and date <= 31 and month == \"Май\") or( month == \"Июнь\" and date >= 1 and date <= 21):\n",
    "   print(\"Ваш знак зодиака:Близнецы\")\n",
    "\n",
    "elif (date >= 22 and date <= 30 and month == \"Июнь\") or( month == \"Июль\" and date >= 1 and date <= 22):\n",
    "   print(\"Ваш знак зодиака:Рак\")\n",
    " \n",
    "elif (date >= 23 and date <= 31 and month == \"Июль\") or( month == \"Август\" and date >= 1 and date <= 22):\n",
    "   print(\"Ваш знак зодиака:Лев\")\n",
    "\n",
    "elif (date >= 23 and date <= 31 and month == \"Август\") or( month == \"Сентябрь\" and date >= 1 and date <= 22):\n",
    "   print(\"Ваш знак зодиака:Дева\")\n",
    "\n",
    "elif (date >= 23 and date <= 30 and month == \"Сентябрь\") or( month == \"Октябрь\" and date >= 1 and date <= 23):\n",
    "   print(\"Ваш знак зодиака:Весы\")\n",
    "\n",
    "elif (date >= 24 and date <= 31 and month == \"Октябрь\") or( month == \"Ноябрь\" and date >= 1 and date <= 22):\n",
    "   print(\"Ваш знак зодиака:Скорпион\")\n",
    "\n",
    "elif (date >= 23 and date <= 30 and month == \"Ноябрь\") or( month == \"Декабрь\" and date >= 1 and date <= 21):\n",
    "   print(\"Ваш знак зодиака:Стрелец\")\n",
    "\n",
    "elif (date >= 22 and date <= 31 and month == \"Декабрь\") or( month == \"Январь\" and date >= 1 and date <= 20):\n",
    "   print(\"Ваш знак зодиака:Козерог\")\n",
    "\n",
    "elif (date >= 21 and date <= 31 and month == \"Январь\") or( month == \"Февраль\" and date >= 1 and date <= 18):\n",
    "   print(\"Ваш знак зодиака:Водолей\")\n",
    "\n",
    "elif (date >= 19 and date <= 29 and month == \"Февраль\") or( month == \"Март\" and date >= 1 and date <= 20):\n",
    "   print(\"Ваш знак зодиака:Рыбы\")"
   ]
  },
  {
   "cell_type": "code",
   "execution_count": null,
   "metadata": {},
   "outputs": [],
   "source": [
    "# Задание 4\n",
    "width = int(input(\"Введите ширину:\"))\n",
    "length = int(input(\"Введите длину:\"))\n",
    "height = int(input(\"Введите высоту:\"))\n",
    "\n",
    "if (width < 15 and length < 15 and height < 15):\n",
    "    print (\"Коробка №1\")\n",
    "elif (width > 15 and width < 50) or (length > 15 and length < 50) or (height > 15 and height < 50):\n",
    "    print (\"Коробка №2\")\n",
    "elif (length >200): \n",
    "    print ('Упаковка для лыж')\n",
    "else:\n",
    "    print (\"Стандартная коробка №3\")"
   ]
  },
  {
   "cell_type": "code",
   "execution_count": null,
   "metadata": {},
   "outputs": [],
   "source": [
    "# Задание 5\n",
    "a = [int(i) for i in input()]\n",
    "if sum(a[:3]) == sum(a[3:]):\n",
    "    print(\"Счастливый билет\")\n",
    "else:\n",
    "    print(\"Несчастливый билет\")"
   ]
  }
 ],
 "metadata": {
  "kernelspec": {
   "display_name": "Python 3",
   "language": "python",
   "name": "python3"
  },
  "language_info": {
   "codemirror_mode": {
    "name": "ipython",
    "version": 3
   },
   "file_extension": ".py",
   "mimetype": "text/x-python",
   "name": "python",
   "nbconvert_exporter": "python",
   "pygments_lexer": "ipython3",
   "version": "3.8.5"
  }
 },
 "nbformat": 4,
 "nbformat_minor": 4
}
